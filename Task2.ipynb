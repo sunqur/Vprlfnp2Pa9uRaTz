{
 "cells": [
  {
   "cell_type": "code",
   "execution_count": 1,
   "id": "3ffa7e85",
   "metadata": {},
   "outputs": [],
   "source": [
    "import pandas as pd \n",
    "import numpy as np \n",
    "import matplotlib.pyplot as plt\n",
    "import seaborn as sns\n",
    "%matplotlib inline\n",
    "from sklearn.model_selection import train_test_split,cross_val_score\n",
    "from sklearn.metrics import classification_report, confusion_matrix\n",
    "from sklearn.metrics import accuracy_score\n",
    "import sklearn.metrics as metrics"
   ]
  },
  {
   "cell_type": "code",
   "execution_count": 2,
   "id": "261db8dd",
   "metadata": {},
   "outputs": [],
   "source": [
    "df = pd.read_csv(\"transactions.csv\")"
   ]
  },
  {
   "cell_type": "code",
   "execution_count": 3,
   "id": "29e64b07",
   "metadata": {},
   "outputs": [
    {
     "data": {
      "text/html": [
       "<div>\n",
       "<style scoped>\n",
       "    .dataframe tbody tr th:only-of-type {\n",
       "        vertical-align: middle;\n",
       "    }\n",
       "\n",
       "    .dataframe tbody tr th {\n",
       "        vertical-align: top;\n",
       "    }\n",
       "\n",
       "    .dataframe thead th {\n",
       "        text-align: right;\n",
       "    }\n",
       "</style>\n",
       "<table border=\"1\" class=\"dataframe\">\n",
       "  <thead>\n",
       "    <tr style=\"text-align: right;\">\n",
       "      <th></th>\n",
       "      <th>pk</th>\n",
       "      <th>ga_transactionid</th>\n",
       "      <th>ga_datehour</th>\n",
       "      <th>ga_products</th>\n",
       "      <th>ga_channels</th>\n",
       "      <th>ga_itemquantity</th>\n",
       "    </tr>\n",
       "  </thead>\n",
       "  <tbody>\n",
       "    <tr>\n",
       "      <th>0</th>\n",
       "      <td>146288072</td>\n",
       "      <td>2_50414543</td>\n",
       "      <td>2020082900</td>\n",
       "      <td>Product D</td>\n",
       "      <td>Facebook</td>\n",
       "      <td>1</td>\n",
       "    </tr>\n",
       "    <tr>\n",
       "      <th>1</th>\n",
       "      <td>146288071</td>\n",
       "      <td>2_50414542</td>\n",
       "      <td>2020082900</td>\n",
       "      <td>Product D</td>\n",
       "      <td>Organic search</td>\n",
       "      <td>1</td>\n",
       "    </tr>\n",
       "    <tr>\n",
       "      <th>2</th>\n",
       "      <td>146287503</td>\n",
       "      <td>2_50413935</td>\n",
       "      <td>2020082900</td>\n",
       "      <td>Product D</td>\n",
       "      <td>Organic search</td>\n",
       "      <td>1</td>\n",
       "    </tr>\n",
       "    <tr>\n",
       "      <th>3</th>\n",
       "      <td>146287504</td>\n",
       "      <td>2_50413936</td>\n",
       "      <td>2020082900</td>\n",
       "      <td>Product D</td>\n",
       "      <td>Organic search</td>\n",
       "      <td>1</td>\n",
       "    </tr>\n",
       "    <tr>\n",
       "      <th>4</th>\n",
       "      <td>146296436</td>\n",
       "      <td>3_65496155</td>\n",
       "      <td>2020082900</td>\n",
       "      <td>Product E</td>\n",
       "      <td>Google Ads</td>\n",
       "      <td>1</td>\n",
       "    </tr>\n",
       "    <tr>\n",
       "      <th>...</th>\n",
       "      <td>...</td>\n",
       "      <td>...</td>\n",
       "      <td>...</td>\n",
       "      <td>...</td>\n",
       "      <td>...</td>\n",
       "      <td>...</td>\n",
       "    </tr>\n",
       "    <tr>\n",
       "      <th>20831804</th>\n",
       "      <td>226498706</td>\n",
       "      <td>11_2530064</td>\n",
       "      <td>2021101807</td>\n",
       "      <td>Product D</td>\n",
       "      <td>Google Ads</td>\n",
       "      <td>1</td>\n",
       "    </tr>\n",
       "    <tr>\n",
       "      <th>20831805</th>\n",
       "      <td>226498707</td>\n",
       "      <td>11_2530066</td>\n",
       "      <td>2021101807</td>\n",
       "      <td>Product D</td>\n",
       "      <td>Facebook</td>\n",
       "      <td>1</td>\n",
       "    </tr>\n",
       "    <tr>\n",
       "      <th>20831806</th>\n",
       "      <td>226498708</td>\n",
       "      <td>11_2530068</td>\n",
       "      <td>2021101807</td>\n",
       "      <td>Product D</td>\n",
       "      <td>Google Ads</td>\n",
       "      <td>1</td>\n",
       "    </tr>\n",
       "    <tr>\n",
       "      <th>20831807</th>\n",
       "      <td>226498709</td>\n",
       "      <td>11_2530070</td>\n",
       "      <td>2021101807</td>\n",
       "      <td>Product D</td>\n",
       "      <td>NaN</td>\n",
       "      <td>1</td>\n",
       "    </tr>\n",
       "    <tr>\n",
       "      <th>20831808</th>\n",
       "      <td>226498710</td>\n",
       "      <td>11_2530071</td>\n",
       "      <td>2021101807</td>\n",
       "      <td>Product D</td>\n",
       "      <td>Facebook</td>\n",
       "      <td>1</td>\n",
       "    </tr>\n",
       "  </tbody>\n",
       "</table>\n",
       "<p>20831809 rows × 6 columns</p>\n",
       "</div>"
      ],
      "text/plain": [
       "                 pk ga_transactionid  ga_datehour ga_products     ga_channels  \\\n",
       "0         146288072       2_50414543   2020082900   Product D        Facebook   \n",
       "1         146288071       2_50414542   2020082900   Product D  Organic search   \n",
       "2         146287503       2_50413935   2020082900   Product D  Organic search   \n",
       "3         146287504       2_50413936   2020082900   Product D  Organic search   \n",
       "4         146296436       3_65496155   2020082900   Product E      Google Ads   \n",
       "...             ...              ...          ...         ...             ...   \n",
       "20831804  226498706       11_2530064   2021101807   Product D      Google Ads   \n",
       "20831805  226498707       11_2530066   2021101807   Product D        Facebook   \n",
       "20831806  226498708       11_2530068   2021101807   Product D      Google Ads   \n",
       "20831807  226498709       11_2530070   2021101807   Product D             NaN   \n",
       "20831808  226498710       11_2530071   2021101807   Product D        Facebook   \n",
       "\n",
       "          ga_itemquantity  \n",
       "0                       1  \n",
       "1                       1  \n",
       "2                       1  \n",
       "3                       1  \n",
       "4                       1  \n",
       "...                   ...  \n",
       "20831804                1  \n",
       "20831805                1  \n",
       "20831806                1  \n",
       "20831807                1  \n",
       "20831808                1  \n",
       "\n",
       "[20831809 rows x 6 columns]"
      ]
     },
     "execution_count": 3,
     "metadata": {},
     "output_type": "execute_result"
    }
   ],
   "source": [
    "df"
   ]
  },
  {
   "cell_type": "raw",
   "id": "c4454e53",
   "metadata": {},
   "source": [
    "Veri setimizde string olan değerler var ve biz bu değerleri replace komutuyla integer hale getirmemiz lazım. Mesala Product A = 1 ve Facebook = 1"
   ]
  },
  {
   "cell_type": "code",
   "execution_count": 4,
   "id": "08d04d18",
   "metadata": {},
   "outputs": [],
   "source": [
    "df = df.replace('Product A', 1)\n",
    "df = df.replace('Product B', 2)\n",
    "df = df.replace('Product C', 3)\n",
    "df = df.replace('Product D', 4)\n",
    "df = df.replace('Product E', 5)\n",
    "df = df.replace('Product F', 6)"
   ]
  },
  {
   "cell_type": "code",
   "execution_count": 5,
   "id": "4ad6e3cc",
   "metadata": {},
   "outputs": [],
   "source": [
    "df = df.replace('Facebook', 1)\n",
    "df = df.replace('Google Ads', 2)\n",
    "df = df.replace('Organic search', 3)\n",
    "df = df.replace('Direct', 4)\n",
    "df = df.replace('CRM', 5)"
   ]
  },
  {
   "cell_type": "code",
   "execution_count": 6,
   "id": "2ab9d76e",
   "metadata": {},
   "outputs": [
    {
     "data": {
      "text/html": [
       "<div>\n",
       "<style scoped>\n",
       "    .dataframe tbody tr th:only-of-type {\n",
       "        vertical-align: middle;\n",
       "    }\n",
       "\n",
       "    .dataframe tbody tr th {\n",
       "        vertical-align: top;\n",
       "    }\n",
       "\n",
       "    .dataframe thead th {\n",
       "        text-align: right;\n",
       "    }\n",
       "</style>\n",
       "<table border=\"1\" class=\"dataframe\">\n",
       "  <thead>\n",
       "    <tr style=\"text-align: right;\">\n",
       "      <th></th>\n",
       "      <th>pk</th>\n",
       "      <th>ga_transactionid</th>\n",
       "      <th>ga_datehour</th>\n",
       "      <th>ga_products</th>\n",
       "      <th>ga_channels</th>\n",
       "      <th>ga_itemquantity</th>\n",
       "    </tr>\n",
       "  </thead>\n",
       "  <tbody>\n",
       "    <tr>\n",
       "      <th>0</th>\n",
       "      <td>146288072</td>\n",
       "      <td>2_50414543</td>\n",
       "      <td>2020082900</td>\n",
       "      <td>4</td>\n",
       "      <td>1</td>\n",
       "      <td>1</td>\n",
       "    </tr>\n",
       "    <tr>\n",
       "      <th>1</th>\n",
       "      <td>146288071</td>\n",
       "      <td>2_50414542</td>\n",
       "      <td>2020082900</td>\n",
       "      <td>4</td>\n",
       "      <td>3</td>\n",
       "      <td>1</td>\n",
       "    </tr>\n",
       "    <tr>\n",
       "      <th>2</th>\n",
       "      <td>146287503</td>\n",
       "      <td>2_50413935</td>\n",
       "      <td>2020082900</td>\n",
       "      <td>4</td>\n",
       "      <td>3</td>\n",
       "      <td>1</td>\n",
       "    </tr>\n",
       "    <tr>\n",
       "      <th>3</th>\n",
       "      <td>146287504</td>\n",
       "      <td>2_50413936</td>\n",
       "      <td>2020082900</td>\n",
       "      <td>4</td>\n",
       "      <td>3</td>\n",
       "      <td>1</td>\n",
       "    </tr>\n",
       "    <tr>\n",
       "      <th>4</th>\n",
       "      <td>146296436</td>\n",
       "      <td>3_65496155</td>\n",
       "      <td>2020082900</td>\n",
       "      <td>5</td>\n",
       "      <td>2</td>\n",
       "      <td>1</td>\n",
       "    </tr>\n",
       "    <tr>\n",
       "      <th>...</th>\n",
       "      <td>...</td>\n",
       "      <td>...</td>\n",
       "      <td>...</td>\n",
       "      <td>...</td>\n",
       "      <td>...</td>\n",
       "      <td>...</td>\n",
       "    </tr>\n",
       "    <tr>\n",
       "      <th>20831804</th>\n",
       "      <td>226498706</td>\n",
       "      <td>11_2530064</td>\n",
       "      <td>2021101807</td>\n",
       "      <td>4</td>\n",
       "      <td>2</td>\n",
       "      <td>1</td>\n",
       "    </tr>\n",
       "    <tr>\n",
       "      <th>20831805</th>\n",
       "      <td>226498707</td>\n",
       "      <td>11_2530066</td>\n",
       "      <td>2021101807</td>\n",
       "      <td>4</td>\n",
       "      <td>1</td>\n",
       "      <td>1</td>\n",
       "    </tr>\n",
       "    <tr>\n",
       "      <th>20831806</th>\n",
       "      <td>226498708</td>\n",
       "      <td>11_2530068</td>\n",
       "      <td>2021101807</td>\n",
       "      <td>4</td>\n",
       "      <td>2</td>\n",
       "      <td>1</td>\n",
       "    </tr>\n",
       "    <tr>\n",
       "      <th>20831807</th>\n",
       "      <td>226498709</td>\n",
       "      <td>11_2530070</td>\n",
       "      <td>2021101807</td>\n",
       "      <td>4</td>\n",
       "      <td>NaN</td>\n",
       "      <td>1</td>\n",
       "    </tr>\n",
       "    <tr>\n",
       "      <th>20831808</th>\n",
       "      <td>226498710</td>\n",
       "      <td>11_2530071</td>\n",
       "      <td>2021101807</td>\n",
       "      <td>4</td>\n",
       "      <td>1</td>\n",
       "      <td>1</td>\n",
       "    </tr>\n",
       "  </tbody>\n",
       "</table>\n",
       "<p>20831809 rows × 6 columns</p>\n",
       "</div>"
      ],
      "text/plain": [
       "                 pk ga_transactionid  ga_datehour  ga_products ga_channels  \\\n",
       "0         146288072       2_50414543   2020082900            4           1   \n",
       "1         146288071       2_50414542   2020082900            4           3   \n",
       "2         146287503       2_50413935   2020082900            4           3   \n",
       "3         146287504       2_50413936   2020082900            4           3   \n",
       "4         146296436       3_65496155   2020082900            5           2   \n",
       "...             ...              ...          ...          ...         ...   \n",
       "20831804  226498706       11_2530064   2021101807            4           2   \n",
       "20831805  226498707       11_2530066   2021101807            4           1   \n",
       "20831806  226498708       11_2530068   2021101807            4           2   \n",
       "20831807  226498709       11_2530070   2021101807            4         NaN   \n",
       "20831808  226498710       11_2530071   2021101807            4           1   \n",
       "\n",
       "          ga_itemquantity  \n",
       "0                       1  \n",
       "1                       1  \n",
       "2                       1  \n",
       "3                       1  \n",
       "4                       1  \n",
       "...                   ...  \n",
       "20831804                1  \n",
       "20831805                1  \n",
       "20831806                1  \n",
       "20831807                1  \n",
       "20831808                1  \n",
       "\n",
       "[20831809 rows x 6 columns]"
      ]
     },
     "execution_count": 6,
     "metadata": {},
     "output_type": "execute_result"
    }
   ],
   "source": [
    "df"
   ]
  },
  {
   "cell_type": "raw",
   "id": "2aeba775",
   "metadata": {},
   "source": [
    "Veri seti içerisinde ki string ifadeleri integer ifadelerle değiştirdik fakat veri setini kontrol ettiğimiz zaman fark ettiyseniz NaN olan değerler var peki bu değerler neyi ifade eder? Tabi ki veri alınmamış yada toplarken eksik toplanılmıştır. Bu durumda dropna komutuyla NaN değerleri veri setimizden kaldırıp veri setimizi temi hale getiriyoruz, bunu yapmamızın sebebi veri setinin çok büyük olması ve bu büyüklük bu yöntemle bizim daha iyi tahmin yapmamızı sağlar."
   ]
  },
  {
   "cell_type": "code",
   "execution_count": 7,
   "id": "61065e0a",
   "metadata": {},
   "outputs": [
    {
     "data": {
      "text/html": [
       "<div>\n",
       "<style scoped>\n",
       "    .dataframe tbody tr th:only-of-type {\n",
       "        vertical-align: middle;\n",
       "    }\n",
       "\n",
       "    .dataframe tbody tr th {\n",
       "        vertical-align: top;\n",
       "    }\n",
       "\n",
       "    .dataframe thead th {\n",
       "        text-align: right;\n",
       "    }\n",
       "</style>\n",
       "<table border=\"1\" class=\"dataframe\">\n",
       "  <thead>\n",
       "    <tr style=\"text-align: right;\">\n",
       "      <th></th>\n",
       "      <th>pk</th>\n",
       "      <th>ga_transactionid</th>\n",
       "      <th>ga_datehour</th>\n",
       "      <th>ga_products</th>\n",
       "      <th>ga_channels</th>\n",
       "      <th>ga_itemquantity</th>\n",
       "    </tr>\n",
       "  </thead>\n",
       "  <tbody>\n",
       "    <tr>\n",
       "      <th>0</th>\n",
       "      <td>146288072</td>\n",
       "      <td>2_50414543</td>\n",
       "      <td>2020082900</td>\n",
       "      <td>4</td>\n",
       "      <td>1</td>\n",
       "      <td>1</td>\n",
       "    </tr>\n",
       "    <tr>\n",
       "      <th>1</th>\n",
       "      <td>146288071</td>\n",
       "      <td>2_50414542</td>\n",
       "      <td>2020082900</td>\n",
       "      <td>4</td>\n",
       "      <td>3</td>\n",
       "      <td>1</td>\n",
       "    </tr>\n",
       "    <tr>\n",
       "      <th>2</th>\n",
       "      <td>146287503</td>\n",
       "      <td>2_50413935</td>\n",
       "      <td>2020082900</td>\n",
       "      <td>4</td>\n",
       "      <td>3</td>\n",
       "      <td>1</td>\n",
       "    </tr>\n",
       "    <tr>\n",
       "      <th>3</th>\n",
       "      <td>146287504</td>\n",
       "      <td>2_50413936</td>\n",
       "      <td>2020082900</td>\n",
       "      <td>4</td>\n",
       "      <td>3</td>\n",
       "      <td>1</td>\n",
       "    </tr>\n",
       "    <tr>\n",
       "      <th>4</th>\n",
       "      <td>146296436</td>\n",
       "      <td>3_65496155</td>\n",
       "      <td>2020082900</td>\n",
       "      <td>5</td>\n",
       "      <td>2</td>\n",
       "      <td>1</td>\n",
       "    </tr>\n",
       "    <tr>\n",
       "      <th>...</th>\n",
       "      <td>...</td>\n",
       "      <td>...</td>\n",
       "      <td>...</td>\n",
       "      <td>...</td>\n",
       "      <td>...</td>\n",
       "      <td>...</td>\n",
       "    </tr>\n",
       "    <tr>\n",
       "      <th>20831803</th>\n",
       "      <td>226498705</td>\n",
       "      <td>11_2530062</td>\n",
       "      <td>2021101807</td>\n",
       "      <td>4</td>\n",
       "      <td>5</td>\n",
       "      <td>1</td>\n",
       "    </tr>\n",
       "    <tr>\n",
       "      <th>20831804</th>\n",
       "      <td>226498706</td>\n",
       "      <td>11_2530064</td>\n",
       "      <td>2021101807</td>\n",
       "      <td>4</td>\n",
       "      <td>2</td>\n",
       "      <td>1</td>\n",
       "    </tr>\n",
       "    <tr>\n",
       "      <th>20831805</th>\n",
       "      <td>226498707</td>\n",
       "      <td>11_2530066</td>\n",
       "      <td>2021101807</td>\n",
       "      <td>4</td>\n",
       "      <td>1</td>\n",
       "      <td>1</td>\n",
       "    </tr>\n",
       "    <tr>\n",
       "      <th>20831806</th>\n",
       "      <td>226498708</td>\n",
       "      <td>11_2530068</td>\n",
       "      <td>2021101807</td>\n",
       "      <td>4</td>\n",
       "      <td>2</td>\n",
       "      <td>1</td>\n",
       "    </tr>\n",
       "    <tr>\n",
       "      <th>20831808</th>\n",
       "      <td>226498710</td>\n",
       "      <td>11_2530071</td>\n",
       "      <td>2021101807</td>\n",
       "      <td>4</td>\n",
       "      <td>1</td>\n",
       "      <td>1</td>\n",
       "    </tr>\n",
       "  </tbody>\n",
       "</table>\n",
       "<p>18760342 rows × 6 columns</p>\n",
       "</div>"
      ],
      "text/plain": [
       "                 pk ga_transactionid  ga_datehour  ga_products ga_channels  \\\n",
       "0         146288072       2_50414543   2020082900            4           1   \n",
       "1         146288071       2_50414542   2020082900            4           3   \n",
       "2         146287503       2_50413935   2020082900            4           3   \n",
       "3         146287504       2_50413936   2020082900            4           3   \n",
       "4         146296436       3_65496155   2020082900            5           2   \n",
       "...             ...              ...          ...          ...         ...   \n",
       "20831803  226498705       11_2530062   2021101807            4           5   \n",
       "20831804  226498706       11_2530064   2021101807            4           2   \n",
       "20831805  226498707       11_2530066   2021101807            4           1   \n",
       "20831806  226498708       11_2530068   2021101807            4           2   \n",
       "20831808  226498710       11_2530071   2021101807            4           1   \n",
       "\n",
       "          ga_itemquantity  \n",
       "0                       1  \n",
       "1                       1  \n",
       "2                       1  \n",
       "3                       1  \n",
       "4                       1  \n",
       "...                   ...  \n",
       "20831803                1  \n",
       "20831804                1  \n",
       "20831805                1  \n",
       "20831806                1  \n",
       "20831808                1  \n",
       "\n",
       "[18760342 rows x 6 columns]"
      ]
     },
     "execution_count": 7,
     "metadata": {},
     "output_type": "execute_result"
    }
   ],
   "source": [
    "df.dropna()"
   ]
  },
  {
   "cell_type": "raw",
   "id": "3dcfd5fa",
   "metadata": {},
   "source": [
    "veri setimizde zman çizelgesi oluşturuyoruz."
   ]
  },
  {
   "cell_type": "code",
   "execution_count": 8,
   "id": "ca47f3ff",
   "metadata": {},
   "outputs": [],
   "source": [
    "df.index = pd.to_datetime(df.index)"
   ]
  },
  {
   "cell_type": "code",
   "execution_count": 9,
   "id": "83516fa0",
   "metadata": {},
   "outputs": [
    {
     "name": "stdout",
     "output_type": "stream",
     "text": [
      "<class 'pandas.core.frame.DataFrame'>\n",
      "DatetimeIndex: 20831809 entries, 1970-01-01 00:00:00 to 1970-01-01 00:00:00.020831808\n",
      "Data columns (total 6 columns):\n",
      " #   Column            Dtype \n",
      "---  ------            ----- \n",
      " 0   pk                int64 \n",
      " 1   ga_transactionid  object\n",
      " 2   ga_datehour       int64 \n",
      " 3   ga_products       int64 \n",
      " 4   ga_channels       object\n",
      " 5   ga_itemquantity   int64 \n",
      "dtypes: int64(4), object(2)\n",
      "memory usage: 1.1+ GB\n"
     ]
    }
   ],
   "source": [
    "df.info()"
   ]
  },
  {
   "cell_type": "raw",
   "id": "9f82cddb",
   "metadata": {},
   "source": [
    "veri setimizde object olan yani integer olmayan değerler olduğunu fark ettik. Bu değerleri iki farklı metotla integer değerlere çevirmemiz gerekecek. 1. metot boş olmayan değerler için ikinci metot ise boş olan değerler için yazlmıştır."
   ]
  },
  {
   "cell_type": "markdown",
   "id": "bbac7b86",
   "metadata": {},
   "source": [
    "1. Metot"
   ]
  },
  {
   "cell_type": "code",
   "execution_count": 10,
   "id": "298e80f3",
   "metadata": {},
   "outputs": [
    {
     "data": {
      "text/html": [
       "<div>\n",
       "<style scoped>\n",
       "    .dataframe tbody tr th:only-of-type {\n",
       "        vertical-align: middle;\n",
       "    }\n",
       "\n",
       "    .dataframe tbody tr th {\n",
       "        vertical-align: top;\n",
       "    }\n",
       "\n",
       "    .dataframe thead th {\n",
       "        text-align: right;\n",
       "    }\n",
       "</style>\n",
       "<table border=\"1\" class=\"dataframe\">\n",
       "  <thead>\n",
       "    <tr style=\"text-align: right;\">\n",
       "      <th></th>\n",
       "      <th>pk</th>\n",
       "      <th>ga_transactionid</th>\n",
       "      <th>ga_datehour</th>\n",
       "      <th>ga_products</th>\n",
       "      <th>ga_channels</th>\n",
       "      <th>ga_itemquantity</th>\n",
       "    </tr>\n",
       "  </thead>\n",
       "  <tbody>\n",
       "    <tr>\n",
       "      <th>1970-01-01 00:00:00.000000000</th>\n",
       "      <td>146288072</td>\n",
       "      <td>250414543</td>\n",
       "      <td>2020082900</td>\n",
       "      <td>4</td>\n",
       "      <td>1</td>\n",
       "      <td>1</td>\n",
       "    </tr>\n",
       "    <tr>\n",
       "      <th>1970-01-01 00:00:00.000000001</th>\n",
       "      <td>146288071</td>\n",
       "      <td>250414542</td>\n",
       "      <td>2020082900</td>\n",
       "      <td>4</td>\n",
       "      <td>3</td>\n",
       "      <td>1</td>\n",
       "    </tr>\n",
       "    <tr>\n",
       "      <th>1970-01-01 00:00:00.000000002</th>\n",
       "      <td>146287503</td>\n",
       "      <td>250413935</td>\n",
       "      <td>2020082900</td>\n",
       "      <td>4</td>\n",
       "      <td>3</td>\n",
       "      <td>1</td>\n",
       "    </tr>\n",
       "    <tr>\n",
       "      <th>1970-01-01 00:00:00.000000003</th>\n",
       "      <td>146287504</td>\n",
       "      <td>250413936</td>\n",
       "      <td>2020082900</td>\n",
       "      <td>4</td>\n",
       "      <td>3</td>\n",
       "      <td>1</td>\n",
       "    </tr>\n",
       "    <tr>\n",
       "      <th>1970-01-01 00:00:00.000000004</th>\n",
       "      <td>146296436</td>\n",
       "      <td>365496155</td>\n",
       "      <td>2020082900</td>\n",
       "      <td>5</td>\n",
       "      <td>2</td>\n",
       "      <td>1</td>\n",
       "    </tr>\n",
       "    <tr>\n",
       "      <th>...</th>\n",
       "      <td>...</td>\n",
       "      <td>...</td>\n",
       "      <td>...</td>\n",
       "      <td>...</td>\n",
       "      <td>...</td>\n",
       "      <td>...</td>\n",
       "    </tr>\n",
       "    <tr>\n",
       "      <th>1970-01-01 00:00:00.020831803</th>\n",
       "      <td>226498705</td>\n",
       "      <td>112530062</td>\n",
       "      <td>2021101807</td>\n",
       "      <td>4</td>\n",
       "      <td>5</td>\n",
       "      <td>1</td>\n",
       "    </tr>\n",
       "    <tr>\n",
       "      <th>1970-01-01 00:00:00.020831804</th>\n",
       "      <td>226498706</td>\n",
       "      <td>112530064</td>\n",
       "      <td>2021101807</td>\n",
       "      <td>4</td>\n",
       "      <td>2</td>\n",
       "      <td>1</td>\n",
       "    </tr>\n",
       "    <tr>\n",
       "      <th>1970-01-01 00:00:00.020831805</th>\n",
       "      <td>226498707</td>\n",
       "      <td>112530066</td>\n",
       "      <td>2021101807</td>\n",
       "      <td>4</td>\n",
       "      <td>1</td>\n",
       "      <td>1</td>\n",
       "    </tr>\n",
       "    <tr>\n",
       "      <th>1970-01-01 00:00:00.020831806</th>\n",
       "      <td>226498708</td>\n",
       "      <td>112530068</td>\n",
       "      <td>2021101807</td>\n",
       "      <td>4</td>\n",
       "      <td>2</td>\n",
       "      <td>1</td>\n",
       "    </tr>\n",
       "    <tr>\n",
       "      <th>1970-01-01 00:00:00.020831808</th>\n",
       "      <td>226498710</td>\n",
       "      <td>112530071</td>\n",
       "      <td>2021101807</td>\n",
       "      <td>4</td>\n",
       "      <td>1</td>\n",
       "      <td>1</td>\n",
       "    </tr>\n",
       "  </tbody>\n",
       "</table>\n",
       "<p>18760342 rows × 6 columns</p>\n",
       "</div>"
      ],
      "text/plain": [
       "                                      pk  ga_transactionid  ga_datehour  \\\n",
       "1970-01-01 00:00:00.000000000  146288072         250414543   2020082900   \n",
       "1970-01-01 00:00:00.000000001  146288071         250414542   2020082900   \n",
       "1970-01-01 00:00:00.000000002  146287503         250413935   2020082900   \n",
       "1970-01-01 00:00:00.000000003  146287504         250413936   2020082900   \n",
       "1970-01-01 00:00:00.000000004  146296436         365496155   2020082900   \n",
       "...                                  ...               ...          ...   \n",
       "1970-01-01 00:00:00.020831803  226498705         112530062   2021101807   \n",
       "1970-01-01 00:00:00.020831804  226498706         112530064   2021101807   \n",
       "1970-01-01 00:00:00.020831805  226498707         112530066   2021101807   \n",
       "1970-01-01 00:00:00.020831806  226498708         112530068   2021101807   \n",
       "1970-01-01 00:00:00.020831808  226498710         112530071   2021101807   \n",
       "\n",
       "                               ga_products ga_channels  ga_itemquantity  \n",
       "1970-01-01 00:00:00.000000000            4           1                1  \n",
       "1970-01-01 00:00:00.000000001            4           3                1  \n",
       "1970-01-01 00:00:00.000000002            4           3                1  \n",
       "1970-01-01 00:00:00.000000003            4           3                1  \n",
       "1970-01-01 00:00:00.000000004            5           2                1  \n",
       "...                                    ...         ...              ...  \n",
       "1970-01-01 00:00:00.020831803            4           5                1  \n",
       "1970-01-01 00:00:00.020831804            4           2                1  \n",
       "1970-01-01 00:00:00.020831805            4           1                1  \n",
       "1970-01-01 00:00:00.020831806            4           2                1  \n",
       "1970-01-01 00:00:00.020831808            4           1                1  \n",
       "\n",
       "[18760342 rows x 6 columns]"
      ]
     },
     "execution_count": 10,
     "metadata": {},
     "output_type": "execute_result"
    }
   ],
   "source": [
    "df[\"ga_transactionid\"] = df.ga_transactionid.astype(int)\n",
    "df.dropna()"
   ]
  },
  {
   "cell_type": "markdown",
   "id": "1df43f86",
   "metadata": {},
   "source": [
    "2. Metot"
   ]
  },
  {
   "cell_type": "code",
   "execution_count": 11,
   "id": "34d25953",
   "metadata": {},
   "outputs": [
    {
     "name": "stdout",
     "output_type": "stream",
     "text": [
      "                                      pk  ga_transactionid  ga_datehour  \\\n",
      "1970-01-01 00:00:00.000000040  146287531         250413965   2020082900   \n",
      "1970-01-01 00:00:00.000000050  146287541         250413978   2020082900   \n",
      "1970-01-01 00:00:00.000000058  146287549         250413987   2020082900   \n",
      "1970-01-01 00:00:00.000000093  146287584         250414023   2020082900   \n",
      "1970-01-01 00:00:00.000000124  146287615         250414056   2020082900   \n",
      "...                                  ...               ...          ...   \n",
      "1970-01-01 00:00:00.020831789  226498730         112530101   2021101807   \n",
      "1970-01-01 00:00:00.020831792  226498694         112530047   2021101807   \n",
      "1970-01-01 00:00:00.020831801  226498703         112530060   2021101807   \n",
      "1970-01-01 00:00:00.020831802  226498704         112530061   2021101807   \n",
      "1970-01-01 00:00:00.020831807  226498709         112530070   2021101807   \n",
      "\n",
      "                               ga_products ga_channels  ga_itemquantity  \n",
      "1970-01-01 00:00:00.000000040            4         NaN                1  \n",
      "1970-01-01 00:00:00.000000050            4         NaN                1  \n",
      "1970-01-01 00:00:00.000000058            4         NaN                1  \n",
      "1970-01-01 00:00:00.000000093            4         NaN                1  \n",
      "1970-01-01 00:00:00.000000124            4         NaN                1  \n",
      "...                                    ...         ...              ...  \n",
      "1970-01-01 00:00:00.020831789            4         NaN                1  \n",
      "1970-01-01 00:00:00.020831792            4         NaN                1  \n",
      "1970-01-01 00:00:00.020831801            4         NaN                1  \n",
      "1970-01-01 00:00:00.020831802            4         NaN                1  \n",
      "1970-01-01 00:00:00.020831807            4         NaN                1  \n",
      "\n",
      "[2071467 rows x 6 columns]\n"
     ]
    }
   ],
   "source": [
    "print(df[df['ga_channels'].isnull()])"
   ]
  },
  {
   "cell_type": "code",
   "execution_count": 12,
   "id": "a2cdcf91",
   "metadata": {},
   "outputs": [],
   "source": [
    "df['ga_channels'] = pd.to_numeric(df['ga_channels'], errors='coerce')"
   ]
  },
  {
   "cell_type": "code",
   "execution_count": 13,
   "id": "81527776",
   "metadata": {},
   "outputs": [],
   "source": [
    "df = df.dropna(subset=['ga_channels'])"
   ]
  },
  {
   "cell_type": "code",
   "execution_count": 14,
   "id": "2734c703",
   "metadata": {},
   "outputs": [
    {
     "name": "stderr",
     "output_type": "stream",
     "text": [
      "<ipython-input-14-d9d12b516268>:1: SettingWithCopyWarning: \n",
      "A value is trying to be set on a copy of a slice from a DataFrame.\n",
      "Try using .loc[row_indexer,col_indexer] = value instead\n",
      "\n",
      "See the caveats in the documentation: https://pandas.pydata.org/pandas-docs/stable/user_guide/indexing.html#returning-a-view-versus-a-copy\n",
      "  df['ga_channels'] = df['ga_channels'].astype(int)\n"
     ]
    }
   ],
   "source": [
    "df['ga_channels'] = df['ga_channels'].astype(int)"
   ]
  },
  {
   "cell_type": "code",
   "execution_count": 15,
   "id": "6aa6b828",
   "metadata": {
    "scrolled": true
   },
   "outputs": [
    {
     "name": "stdout",
     "output_type": "stream",
     "text": [
      "<class 'pandas.core.frame.DataFrame'>\n",
      "DatetimeIndex: 18647761 entries, 1970-01-01 00:00:00 to 1970-01-01 00:00:00.020831808\n",
      "Data columns (total 6 columns):\n",
      " #   Column            Dtype\n",
      "---  ------            -----\n",
      " 0   pk                int64\n",
      " 1   ga_transactionid  int32\n",
      " 2   ga_datehour       int64\n",
      " 3   ga_products       int64\n",
      " 4   ga_channels       int32\n",
      " 5   ga_itemquantity   int64\n",
      "dtypes: int32(2), int64(4)\n",
      "memory usage: 853.6 MB\n"
     ]
    }
   ],
   "source": [
    "df.info()"
   ]
  },
  {
   "cell_type": "raw",
   "id": "0650f95b",
   "metadata": {},
   "source": [
    "veri setimizi eğitim ve test olarak ikiye ayırmamız gerekecektir. İlk önce kolonları belirleyip sonrada test ve train işlemlerine geçeceğiz."
   ]
  },
  {
   "cell_type": "raw",
   "id": "976eca4b",
   "metadata": {},
   "source": [
    "Verimizi %30 luk kısmını test %70 lik kısmını ise eğitim için ayırdık.\n",
    "Dizinin, zaman serisi verileri için gerekli olan tarih saat olması gerekir. "
   ]
  },
  {
   "cell_type": "code",
   "execution_count": 16,
   "id": "92c10e4c",
   "metadata": {},
   "outputs": [],
   "source": [
    "X=df.values[:,1:5]\n",
    "y=df.values[:, -1:]"
   ]
  },
  {
   "cell_type": "raw",
   "id": "4925d5f6",
   "metadata": {},
   "source": [
    "x değişkenimiz sonucu etkileyen nesneler y değişkenimiz ise sonuç."
   ]
  },
  {
   "cell_type": "code",
   "execution_count": 17,
   "id": "e2464b6b",
   "metadata": {},
   "outputs": [],
   "source": [
    "from sklearn.model_selection import train_test_split\n",
    "X_train, X_test, y_train, y_test = train_test_split(X, y, test_size=0.3)"
   ]
  },
  {
   "cell_type": "code",
   "execution_count": 18,
   "id": "555e841e",
   "metadata": {
    "scrolled": true
   },
   "outputs": [
    {
     "name": "stdout",
     "output_type": "stream",
     "text": [
      "Train:  (13053432, 4)\n",
      "Test:  (5594329, 1)\n"
     ]
    }
   ],
   "source": [
    "print( 'Train: ', X_train.shape)\n",
    "print( 'Test: ', y_test.shape)"
   ]
  },
  {
   "cell_type": "raw",
   "id": "0a11e4dd",
   "metadata": {},
   "source": [
    "KNN algoritmasını kullanarak veri setimizi eğitelim ve sonucu gözlemleyelim"
   ]
  },
  {
   "cell_type": "code",
   "execution_count": 20,
   "id": "3c2a1fc0",
   "metadata": {},
   "outputs": [
    {
     "name": "stderr",
     "output_type": "stream",
     "text": [
      "C:\\Anaconda3\\lib\\site-packages\\sklearn\\neighbors\\_classification.py:179: DataConversionWarning: A column-vector y was passed when a 1d array was expected. Please change the shape of y to (n_samples,), for example using ravel().\n",
      "  return self._fit(X, y)\n"
     ]
    },
    {
     "name": "stdout",
     "output_type": "stream",
     "text": [
      "KNN  için tahmin: 99.964\n"
     ]
    }
   ],
   "source": [
    "from sklearn.neighbors import KNeighborsClassifier\n",
    "sınıflandırıcı=KNeighborsClassifier(n_neighbors=3)\n",
    "sınıflandırıcı.fit(X_train, y_train)\n",
    "tahmin=sınıflandırıcı.predict(X_test)\n",
    "print(\"KNN  için tahmin: {:.3f}\" .format(accuracy_score(y_test, tahmin)*100))"
   ]
  },
  {
   "cell_type": "code",
   "execution_count": 36,
   "id": "47392bf9",
   "metadata": {},
   "outputs": [
    {
     "name": "stdout",
     "output_type": "stream",
     "text": [
      "[1 1 1 ... 1 1 1]\n"
     ]
    }
   ],
   "source": [
    "print(tahmin)\n"
   ]
  },
  {
   "cell_type": "code",
   "execution_count": null,
   "id": "109664e5",
   "metadata": {},
   "outputs": [],
   "source": [
    "# sonucumuzu görselleştirelim\n",
    "plt.plot(X_train,y_train)\n",
    "plt.plot(X_test,sınıflandırıcı.predict(x_test))\n",
    "plt.title(\"title\")\n",
    "plt.xlabel(\"x\")\n",
    "plt.ylabel(\"y\")"
   ]
  },
  {
   "cell_type": "raw",
   "id": "5778ca64",
   "metadata": {},
   "source": [
    "diğer veri setlerinde tuhaflık var o yüzden  diğerlerini yapamadım"
   ]
  },
  {
   "cell_type": "code",
   "execution_count": null,
   "id": "098e818c",
   "metadata": {},
   "outputs": [],
   "source": []
  }
 ],
 "metadata": {
  "kernelspec": {
   "display_name": "Python 3",
   "language": "python",
   "name": "python3"
  },
  "language_info": {
   "codemirror_mode": {
    "name": "ipython",
    "version": 3
   },
   "file_extension": ".py",
   "mimetype": "text/x-python",
   "name": "python",
   "nbconvert_exporter": "python",
   "pygments_lexer": "ipython3",
   "version": "3.8.8"
  }
 },
 "nbformat": 4,
 "nbformat_minor": 5
}
